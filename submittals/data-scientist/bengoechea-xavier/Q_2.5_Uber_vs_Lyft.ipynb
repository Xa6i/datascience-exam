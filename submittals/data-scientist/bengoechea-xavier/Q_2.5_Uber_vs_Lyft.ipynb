{
 "cells": [
  {
   "cell_type": "markdown",
   "metadata": {},
   "source": [
    "### Q 2.5: Uber vs. Lyft\n",
    "You request 2 UberX’s and 3 Lyfts. If the time that each takes to reach you is IID, what is the probability that all the Lyfts arrive first? What is the probability that all the UberX’s arrive first?"
   ]
  },
  {
   "cell_type": "markdown",
   "metadata": {},
   "source": [
    "There are five cars coming to get us.  Of the five, three are Lyfts.  \n",
    "Thus the probability that the first car to arrive is a Lyft is 3 out of 5 = 3/5.  \n",
    "Now that the first car has arrived, there are four cars remaining: 2 Lyfts and 2 UberXs.  \n",
    "The probability that the next car to arrive is a Lyft is 2 Lyfts out of 4 remaining cars which is 2/4 = 1/2.  \n",
    "Now that the first and second cars have arrived, three cars remain of which only one is a Lyft.  The probability that the next car is a Lyft is one out of three = 1/3.    "
   ]
  },
  {
   "cell_type": "markdown",
   "metadata": {},
   "source": [
    "Let me call the probabilty of Lyft coming first, `p(L1)`.  Lyft coming second after Lyft came first is `p(L2 | L1)`, and `p(L3 | L1, L2)` for Lyft coming third.  \n",
    "The joint probability `p( L1, L2, L3)` is the product of the conditional probabilities."
   ]
  },
  {
   "cell_type": "markdown",
   "metadata": {},
   "source": [
    "`p(L1, L2, L3) = p(L1) * p(L2 | L1) * p(L3 | L1, L2)`"
   ]
  },
  {
   "cell_type": "markdown",
   "metadata": {},
   "source": [
    "`p(L1, L2, L3) = 3/5 * 1/2 * 1/3`"
   ]
  },
  {
   "cell_type": "markdown",
   "metadata": {},
   "source": [
    "`p(L1, L2, L3) = 3/30 = 1/10`"
   ]
  },
  {
   "cell_type": "markdown",
   "metadata": {},
   "source": [
    "### The probability all Lyfts arrive first is 1/10."
   ]
  },
  {
   "cell_type": "markdown",
   "metadata": {},
   "source": [
    "Now, I can use the same reasoning to calculate all UberXs arriving first.  "
   ]
  },
  {
   "cell_type": "markdown",
   "metadata": {},
   "source": [
    "Of the five cars coming to get us, two are UberXs.  Thus, the probability of the first car being an UberX, `p(U1)`, is 2 out of 5 = 2/5.  "
   ]
  },
  {
   "cell_type": "markdown",
   "metadata": {},
   "source": [
    "Now, the probability of the next car also being an UberX is represented by `p(U2 | U1)` and is equal to one UberX remaining out of four cars coming to get us.  \n",
    "Thus, `p(U2 | U1)` is 1 out of 4 => `p(U2 | U1) = 1/4`."
   ]
  },
  {
   "cell_type": "markdown",
   "metadata": {},
   "source": [
    "The joint probability is given by: `p(U1, U2) = p(U1) * p(U2 | U1)`"
   ]
  },
  {
   "cell_type": "markdown",
   "metadata": {},
   "source": [
    "`p(U1, U2) = p(U1) * p(U2 | U1)`"
   ]
  },
  {
   "cell_type": "markdown",
   "metadata": {},
   "source": [
    "`p(U1, U2) = 2/5 * 1/4 = 2/20 = 1/10`"
   ]
  },
  {
   "cell_type": "markdown",
   "metadata": {},
   "source": [
    "### The probability all UberXs arrive first is also 1/10."
   ]
  },
  {
   "cell_type": "markdown",
   "metadata": {},
   "source": [
    "I can write a quick program to see if my reasoning is correct."
   ]
  },
  {
   "cell_type": "code",
   "execution_count": 1,
   "metadata": {},
   "outputs": [],
   "source": [
    "import random"
   ]
  },
  {
   "cell_type": "code",
   "execution_count": 2,
   "metadata": {},
   "outputs": [],
   "source": [
    "def ubly(n):\n",
    "    uber, lyft, neither = 0, 0, 0\n",
    "    for i in range(n):\n",
    "        result = []\n",
    "        mylist = [1, 0, 1, 0, 1]\n",
    "        for i in range(len(mylist)):\n",
    "            length = len(mylist) - 1\n",
    "            result.append(mylist.pop(random.randint(0,length)))\n",
    "        if   result == [0, 0, 1, 1, 1]:\n",
    "            uber += 1\n",
    "        elif result == [1, 1, 1, 0, 0]:\n",
    "            lyft += 1\n",
    "        else:\n",
    "            neither += 1\n",
    "    return uber/n, lyft/n, neither/n"
   ]
  },
  {
   "cell_type": "code",
   "execution_count": 3,
   "metadata": {},
   "outputs": [
    {
     "data": {
      "text/plain": [
       "(0.14, 0.1, 0.76)"
      ]
     },
     "execution_count": 3,
     "metadata": {},
     "output_type": "execute_result"
    }
   ],
   "source": [
    "ubly(100)"
   ]
  },
  {
   "cell_type": "code",
   "execution_count": 4,
   "metadata": {},
   "outputs": [
    {
     "data": {
      "text/plain": [
       "(0.095, 0.089, 0.816)"
      ]
     },
     "execution_count": 4,
     "metadata": {},
     "output_type": "execute_result"
    }
   ],
   "source": [
    "ubly(1000)"
   ]
  },
  {
   "cell_type": "code",
   "execution_count": 5,
   "metadata": {},
   "outputs": [
    {
     "data": {
      "text/plain": [
       "(0.1014, 0.1006, 0.798)"
      ]
     },
     "execution_count": 5,
     "metadata": {},
     "output_type": "execute_result"
    }
   ],
   "source": [
    "ubly(10000)"
   ]
  },
  {
   "cell_type": "code",
   "execution_count": 6,
   "metadata": {},
   "outputs": [
    {
     "data": {
      "text/plain": [
       "(0.0982, 0.1012, 0.8006)"
      ]
     },
     "execution_count": 6,
     "metadata": {},
     "output_type": "execute_result"
    }
   ],
   "source": [
    "ubly(10000)"
   ]
  },
  {
   "cell_type": "code",
   "execution_count": 7,
   "metadata": {},
   "outputs": [
    {
     "data": {
      "text/plain": [
       "(0.10044, 0.10161, 0.79795)"
      ]
     },
     "execution_count": 7,
     "metadata": {},
     "output_type": "execute_result"
    }
   ],
   "source": [
    "ubly(100000)"
   ]
  },
  {
   "cell_type": "code",
   "execution_count": 8,
   "metadata": {},
   "outputs": [
    {
     "data": {
      "text/plain": [
       "(0.099893, 0.100197, 0.79991)"
      ]
     },
     "execution_count": 8,
     "metadata": {},
     "output_type": "execute_result"
    }
   ],
   "source": [
    "ubly(1000000)"
   ]
  },
  {
   "cell_type": "markdown",
   "metadata": {},
   "source": [
    "As the number of trials increases, the results converge towards our expectation of 1/10 for UberX, 1/10 for Lyft and 8/10 (or 4/5) for not getting all of the same type of car service before any of the other type arrive."
   ]
  },
  {
   "cell_type": "code",
   "execution_count": null,
   "metadata": {},
   "outputs": [],
   "source": []
  }
 ],
 "metadata": {
  "kernelspec": {
   "display_name": "Python 3",
   "language": "python",
   "name": "python3"
  },
  "language_info": {
   "codemirror_mode": {
    "name": "ipython",
    "version": 3
   },
   "file_extension": ".py",
   "mimetype": "text/x-python",
   "name": "python",
   "nbconvert_exporter": "python",
   "pygments_lexer": "ipython3",
   "version": "3.6.5"
  }
 },
 "nbformat": 4,
 "nbformat_minor": 2
}
